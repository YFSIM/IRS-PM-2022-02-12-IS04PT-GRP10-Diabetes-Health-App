{
 "cells": [
  {
   "cell_type": "code",
   "execution_count": 3,
   "id": "c9edf024",
   "metadata": {},
   "outputs": [],
   "source": [
    "import pickle\n",
    "import pandas as pd"
   ]
  },
  {
   "cell_type": "code",
   "execution_count": 13,
   "id": "6264049e",
   "metadata": {
    "scrolled": false
   },
   "outputs": [
    {
     "name": "stdout",
     "output_type": "stream",
     "text": [
      "    HighBP  HighChol  BMI  Smoker  Stroke  HeartDiseaseorAttack  PhysActivity  \\\n",
      "0        1         0   26       0       0                     0             1   \n",
      "1        1         1   26       1       1                     0             0   \n",
      "2        0         0   26       0       0                     0             1   \n",
      "3        1         1   28       1       0                     0             1   \n",
      "4        0         0   29       1       0                     0             1   \n",
      "5        0         0   18       0       0                     0             1   \n",
      "6        0         1   26       1       0                     0             1   \n",
      "7        0         0   31       1       0                     0             0   \n",
      "8        0         0   32       0       0                     0             1   \n",
      "9        0         0   27       1       0                     0             0   \n",
      "10       1         1   24       1       0                     1             1   \n",
      "11       0         0   21       0       0                     0             1   \n",
      "12       1         1   27       0       0                     0             1   \n",
      "13       1         0   58       0       0                     0             0   \n",
      "14       0         1   29       1       0                     0             1   \n",
      "15       0         0   18       1       0                     0             1   \n",
      "\n",
      "    Fruits  Veggies  HvyAlcoholConsump  MentHlth  PhysHlth  DiffWalk  Sex  Age  \n",
      "0        0        1                  0         5        30         0    1    4  \n",
      "1        1        0                  0         0         0         0    1   12  \n",
      "2        1        1                  0         0        10         0    1   13  \n",
      "3        1        1                  0         0         3         0    1   11  \n",
      "4        1        1                  0         0         0         0    0    8  \n",
      "5        1        1                  0         7         0         0    0    1  \n",
      "6        1        1                  1         0         0         0    1   13  \n",
      "7        1        1                  0         0         0         0    1    6  \n",
      "8        1        1                  0         0         0         0    0    3  \n",
      "9        1        1                  0         0         6         0    1    6  \n",
      "10       1        1                  0         0         4         0    0   12  \n",
      "11       1        1                  0         0         0         0    1    4  \n",
      "12       1        1                  0         0         0         0    1    7  \n",
      "13       1        1                  0         3         3         0    1   10  \n",
      "14       1        0                  0         0         0         1    0   10  \n",
      "15       1        0                  0         0         0         0    0   10  \n",
      "[1 1 1 1 0 1 0 0 0 1 1 0 0 1 1 0]\n"
     ]
    }
   ],
   "source": [
    "# Load the model as your software engineer would.\n",
    "dbtmodel_pkl = open('dbtmodel.pkl', 'rb')\n",
    "dbtmodel = pickle.load(dbtmodel_pkl)\n",
    "\n",
    "\n",
    "# Tes library\n",
    "df_predict = pd.read_csv(\"dbtmodel_test.csv\")\n",
    "print(df_predict)\n",
    "#predicted_value = predict_model(latest_model, data=df_predict)\n",
    "print(dbtmodel.predict(df_predict))"
   ]
  },
  {
   "cell_type": "code",
   "execution_count": 11,
   "id": "60988497",
   "metadata": {},
   "outputs": [],
   "source": [
    "result = dbtmodel.predict(df_predict)"
   ]
  },
  {
   "cell_type": "code",
   "execution_count": 12,
   "id": "7580e776",
   "metadata": {},
   "outputs": [
    {
     "name": "stdout",
     "output_type": "stream",
     "text": [
      "[1]\n"
     ]
    }
   ],
   "source": [
    "print(result)"
   ]
  }
 ],
 "metadata": {
  "kernelspec": {
   "display_name": "project36",
   "language": "python",
   "name": "project36"
  },
  "language_info": {
   "codemirror_mode": {
    "name": "ipython",
    "version": 3
   },
   "file_extension": ".py",
   "mimetype": "text/x-python",
   "name": "python",
   "nbconvert_exporter": "python",
   "pygments_lexer": "ipython3",
   "version": "3.6.13"
  }
 },
 "nbformat": 4,
 "nbformat_minor": 5
}
