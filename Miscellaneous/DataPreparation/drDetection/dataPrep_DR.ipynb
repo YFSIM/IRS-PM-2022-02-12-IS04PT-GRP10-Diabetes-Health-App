{
 "cells": [
  {
   "cell_type": "code",
   "execution_count": null,
   "metadata": {},
   "outputs": [],
   "source": [
    "# !pip install keras"
   ]
  },
  {
   "cell_type": "code",
   "execution_count": null,
   "metadata": {},
   "outputs": [],
   "source": [
    "# !pip install tensorflow==1.13.2\n",
    "# !pip install -U \"segmentation-models\"\n",
    "# !pip install -U \"tensorflow==2.1\"\n",
    "# !pip install -U \"Keras==2.3.1\"\n",
    "# !pip install -U \"tensorflow-estimator==2.1\""
   ]
  },
  {
   "cell_type": "code",
   "execution_count": null,
   "metadata": {},
   "outputs": [],
   "source": [
    "# !pip install opencv-python"
   ]
  },
  {
   "cell_type": "code",
   "execution_count": null,
   "metadata": {},
   "outputs": [],
   "source": [
    "# !pip install -U \"Keras==2.3.1\""
   ]
  },
  {
   "cell_type": "code",
   "execution_count": 1,
   "metadata": {},
   "outputs": [
    {
     "name": "stderr",
     "output_type": "stream",
     "text": [
      "Using TensorFlow backend.\n"
     ]
    }
   ],
   "source": [
    "import tensorflow as tf\n",
    "import keras #must be 2.3.1\n",
    "from keras.preprocessing.image import load_img\n",
    "from keras.preprocessing.image import img_to_array\n",
    "import cv2\n",
    "from PIL import Image"
   ]
  },
  {
   "cell_type": "code",
   "execution_count": 14,
   "metadata": {},
   "outputs": [],
   "source": [
    "import pandas as pd\n",
    "import os \n",
    "# import csv and rename it\n",
    "retina_df = pd.read_csv('trainLabels.csv', index_col = False).rename(columns = {'image':'Image', 'level':'Level'})\n",
    "\n",
    "# Get PatientId & Eye by looking at image number\n",
    "retina_df['PatientId'] = retina_df['Image'].map(lambda x: x.split('_',1)[0])\n",
    "retina_df['LeftEye'] = retina_df['Image'].map(lambda x: 1 if x.split('_',1)[1] == 'left' else 0)\n",
    "\n",
    "# Get path to each file\n",
    "cwd = os.getcwd()\n",
    "base_image_dir = os.path.join('.', 'Image/train')\n",
    "retina_df['Path'] = retina_df['Image'].map(lambda x: os.path.join(base_image_dir,'{}.jpeg'.format(x)))"
   ]
  },
  {
   "cell_type": "code",
   "execution_count": 15,
   "metadata": {},
   "outputs": [
    {
     "data": {
      "text/html": [
       "<div>\n",
       "<style scoped>\n",
       "    .dataframe tbody tr th:only-of-type {\n",
       "        vertical-align: middle;\n",
       "    }\n",
       "\n",
       "    .dataframe tbody tr th {\n",
       "        vertical-align: top;\n",
       "    }\n",
       "\n",
       "    .dataframe thead th {\n",
       "        text-align: right;\n",
       "    }\n",
       "</style>\n",
       "<table border=\"1\" class=\"dataframe\">\n",
       "  <thead>\n",
       "    <tr style=\"text-align: right;\">\n",
       "      <th></th>\n",
       "      <th>Image</th>\n",
       "      <th>Level</th>\n",
       "      <th>PatientId</th>\n",
       "      <th>LeftEye</th>\n",
       "      <th>Path</th>\n",
       "      <th>Exist</th>\n",
       "    </tr>\n",
       "  </thead>\n",
       "  <tbody>\n",
       "    <tr>\n",
       "      <th>13522</th>\n",
       "      <td>16978_left</td>\n",
       "      <td>0</td>\n",
       "      <td>16978</td>\n",
       "      <td>1</td>\n",
       "      <td>./Image/train/16978_left.jpeg</td>\n",
       "      <td>True</td>\n",
       "    </tr>\n",
       "    <tr>\n",
       "      <th>4224</th>\n",
       "      <td>5303_left</td>\n",
       "      <td>0</td>\n",
       "      <td>5303</td>\n",
       "      <td>1</td>\n",
       "      <td>./Image/train/5303_left.jpeg</td>\n",
       "      <td>True</td>\n",
       "    </tr>\n",
       "    <tr>\n",
       "      <th>29841</th>\n",
       "      <td>37736_right</td>\n",
       "      <td>0</td>\n",
       "      <td>37736</td>\n",
       "      <td>0</td>\n",
       "      <td>./Image/train/37736_right.jpeg</td>\n",
       "      <td>True</td>\n",
       "    </tr>\n",
       "  </tbody>\n",
       "</table>\n",
       "</div>"
      ],
      "text/plain": [
       "             Image  Level PatientId  LeftEye                            Path  \\\n",
       "13522   16978_left      0     16978        1   ./Image/train/16978_left.jpeg   \n",
       "4224     5303_left      0      5303        1    ./Image/train/5303_left.jpeg   \n",
       "29841  37736_right      0     37736        0  ./Image/train/37736_right.jpeg   \n",
       "\n",
       "       Exist  \n",
       "13522   True  \n",
       "4224    True  \n",
       "29841   True  "
      ]
     },
     "execution_count": 15,
     "metadata": {},
     "output_type": "execute_result"
    }
   ],
   "source": [
    "retina_df['Exist'] = retina_df['Path'].map(os.path.exists)\n",
    "retina_df = retina_df[retina_df['Exist']==True]\n",
    "retina_df.sample(3)"
   ]
  },
  {
   "cell_type": "code",
   "execution_count": 16,
   "metadata": {},
   "outputs": [
    {
     "data": {
      "text/plain": [
       "array([[<AxesSubplot:title={'center':'Level'}>,\n",
       "        <AxesSubplot:title={'center':'LeftEye'}>]], dtype=object)"
      ]
     },
     "execution_count": 16,
     "metadata": {},
     "output_type": "execute_result"
    },
    {
     "data": {
      "image/png": "[encoded data removed]",
      "text/plain": [
       "<Figure size 720x360 with 2 Axes>"
      ]
     },
     "metadata": {
      "needs_background": "light"
     },
     "output_type": "display_data"
    }
   ],
   "source": [
    "# EDA\n",
    "retina_df[['Level', 'LeftEye']].hist(figsize = (10, 5))\n"
   ]
  },
  {
   "cell_type": "code",
   "execution_count": 17,
   "metadata": {},
   "outputs": [
    {
     "data": {
      "text/html": [
       "<div>\n",
       "<style scoped>\n",
       "    .dataframe tbody tr th:only-of-type {\n",
       "        vertical-align: middle;\n",
       "    }\n",
       "\n",
       "    .dataframe tbody tr th {\n",
       "        vertical-align: top;\n",
       "    }\n",
       "\n",
       "    .dataframe thead th {\n",
       "        text-align: right;\n",
       "    }\n",
       "</style>\n",
       "<table border=\"1\" class=\"dataframe\">\n",
       "  <thead>\n",
       "    <tr style=\"text-align: right;\">\n",
       "      <th></th>\n",
       "      <th>Level</th>\n",
       "      <th>LeftEye</th>\n",
       "      <th>count</th>\n",
       "    </tr>\n",
       "  </thead>\n",
       "  <tbody>\n",
       "    <tr>\n",
       "      <th>0</th>\n",
       "      <td>0</td>\n",
       "      <td>0</td>\n",
       "      <td>12939</td>\n",
       "    </tr>\n",
       "    <tr>\n",
       "      <th>1</th>\n",
       "      <td>0</td>\n",
       "      <td>1</td>\n",
       "      <td>12871</td>\n",
       "    </tr>\n",
       "    <tr>\n",
       "      <th>2</th>\n",
       "      <td>1</td>\n",
       "      <td>0</td>\n",
       "      <td>1231</td>\n",
       "    </tr>\n",
       "    <tr>\n",
       "      <th>3</th>\n",
       "      <td>1</td>\n",
       "      <td>1</td>\n",
       "      <td>1212</td>\n",
       "    </tr>\n",
       "    <tr>\n",
       "      <th>4</th>\n",
       "      <td>2</td>\n",
       "      <td>0</td>\n",
       "      <td>2590</td>\n",
       "    </tr>\n",
       "    <tr>\n",
       "      <th>5</th>\n",
       "      <td>2</td>\n",
       "      <td>1</td>\n",
       "      <td>2702</td>\n",
       "    </tr>\n",
       "    <tr>\n",
       "      <th>6</th>\n",
       "      <td>3</td>\n",
       "      <td>0</td>\n",
       "      <td>448</td>\n",
       "    </tr>\n",
       "    <tr>\n",
       "      <th>7</th>\n",
       "      <td>3</td>\n",
       "      <td>1</td>\n",
       "      <td>425</td>\n",
       "    </tr>\n",
       "    <tr>\n",
       "      <th>8</th>\n",
       "      <td>4</td>\n",
       "      <td>0</td>\n",
       "      <td>355</td>\n",
       "    </tr>\n",
       "    <tr>\n",
       "      <th>9</th>\n",
       "      <td>4</td>\n",
       "      <td>1</td>\n",
       "      <td>353</td>\n",
       "    </tr>\n",
       "  </tbody>\n",
       "</table>\n",
       "</div>"
      ],
      "text/plain": [
       "   Level  LeftEye  count\n",
       "0      0        0  12939\n",
       "1      0        1  12871\n",
       "2      1        0   1231\n",
       "3      1        1   1212\n",
       "4      2        0   2590\n",
       "5      2        1   2702\n",
       "6      3        0    448\n",
       "7      3        1    425\n",
       "8      4        0    355\n",
       "9      4        1    353"
      ]
     },
     "execution_count": 17,
     "metadata": {},
     "output_type": "execute_result"
    }
   ],
   "source": [
    "retina_df.groupby(['Level', 'LeftEye']).size().reset_index(name='count')"
   ]
  },
  {
   "cell_type": "code",
   "execution_count": 18,
   "metadata": {},
   "outputs": [
    {
     "name": "stdout",
     "output_type": "stream",
     "text": [
      "No. of training sample: 24384\n",
      "No. of test sample: 12686\n"
     ]
    }
   ],
   "source": [
    "# Split dataset to training or test dataset (to use stratify approach since dataset unbalanced)\n",
    "from sklearn.model_selection import train_test_split\n",
    "retina_id = retina_df[['PatientId', 'Level']].drop_duplicates()\n",
    "\n",
    "train_id , test_id = train_test_split(retina_id['PatientId'], test_size = 1/3, random_state =23, stratify = retina_id['Level'])\n",
    "train_data = retina_df[retina_df['PatientId'].isin(train_id)]\n",
    "test_data = retina_df[retina_df['PatientId'].isin(test_id)]\n",
    "print(f\"No. of training sample: {train_data.shape[0]}\")\n",
    "print(f\"No. of test sample: {test_data.shape[0]}\")\n"
   ]
  },
  {
   "cell_type": "code",
   "execution_count": 19,
   "metadata": {},
   "outputs": [],
   "source": [
    "train_df = train_data.groupby(['Level', 'LeftEye']).apply(lambda x: x.sample(200, replace = True)\n",
    "                                                      ).reset_index(drop = True)\n"
   ]
  },
  {
   "cell_type": "code",
   "execution_count": 20,
   "metadata": {
    "scrolled": true
   },
   "outputs": [
    {
     "data": {
      "text/plain": [
       "(2000, 6)"
      ]
     },
     "execution_count": 20,
     "metadata": {},
     "output_type": "execute_result"
    }
   ],
   "source": [
    "train_df.shape"
   ]
  },
  {
   "cell_type": "code",
   "execution_count": 21,
   "metadata": {},
   "outputs": [],
   "source": [
    "import numpy as np"
   ]
  },
  {
   "cell_type": "code",
   "execution_count": 22,
   "metadata": {},
   "outputs": [],
   "source": [
    "x_train = []\n",
    "for path in train_df['Path']:\n",
    "    img_arr = cv2.imread(path)\n",
    "    img_arr = cv2.resize(img_arr,(224,224))\n",
    "    img_arr = img_arr/255 #normalize\n",
    "    x_train.append(img_arr)\n",
    "X = np.array(x_train)\n",
    "\n",
    "np.save('x_train_arr', X)"
   ]
  },
  {
   "cell_type": "code",
   "execution_count": 12,
   "metadata": {},
   "outputs": [],
   "source": [
    "X = np.load('x_train_arr.npy')"
   ]
  },
  {
   "cell_type": "code",
   "execution_count": 23,
   "metadata": {},
   "outputs": [],
   "source": [
    "## Perform Encoding\n",
    "from keras.utils.np_utils import to_categorical\n",
    "# retina_df['LevelCat'] = retina_df['Level'].map(lambda x: to_categorical(x, 1+retina_df['Level'].max()))\n",
    "y = to_categorical(train_df['Level'], dtype =\"uint8\")"
   ]
  },
  {
   "cell_type": "code",
   "execution_count": 24,
   "metadata": {},
   "outputs": [],
   "source": [
    "## Split the training set into 2 (train and test for evaluation purpose)\n",
    "X_train, X_test, y_train, y_test = train_test_split(X, y, random_state=23, test_size=0.4)"
   ]
  },
  {
   "cell_type": "code",
   "execution_count": 25,
   "metadata": {},
   "outputs": [],
   "source": [
    "import keras\n",
    "from keras.models import Sequential,Input,Model\n",
    "from keras.layers import Dense, Dropout, Flatten\n",
    "from keras.layers import Conv2D, MaxPooling2D\n",
    "from keras.layers.normalization import BatchNormalization\n",
    "from keras.layers.advanced_activations import LeakyReLU"
   ]
  },
  {
   "cell_type": "code",
   "execution_count": 26,
   "metadata": {},
   "outputs": [],
   "source": [
    "import tensorflow\n",
    "model = tensorflow.keras.Sequential()"
   ]
  },
  {
   "cell_type": "code",
   "execution_count": 27,
   "metadata": {},
   "outputs": [],
   "source": [
    "from tensorflow.keras.layers import LeakyReLU, Activation, Dropout, Dense, Conv2D, Flatten, Dropout, MaxPooling2D, BatchNormalization"
   ]
  },
  {
   "cell_type": "code",
   "execution_count": 28,
   "metadata": {},
   "outputs": [],
   "source": [
    "# model = Sequential()\n",
    "model.add(Conv2D(32, kernel_size=(3, 3),activation='linear',input_shape=(224,224,3) ,padding='same'))\n",
    "model.add(LeakyReLU(alpha=0.1))\n",
    "model.add(MaxPooling2D((2, 2),padding='same'))\n",
    "model.add(Conv2D(64, (3, 3), activation='linear',padding='same'))\n",
    "model.add(LeakyReLU(alpha=0.1))\n",
    "model.add(MaxPooling2D(pool_size=(2, 2),padding='same'))\n",
    "model.add(Conv2D(128, (3, 3), activation='linear',padding='same'))\n",
    "model.add(LeakyReLU(alpha=0.1))                  \n",
    "model.add(MaxPooling2D(pool_size=(2, 2),padding='same'))\n",
    "model.add(Flatten())\n",
    "model.add(Dense(128, activation='linear'))\n",
    "model.add(LeakyReLU(alpha=0.1))                  \n",
    "model.add(Dense(5, activation='softmax'))"
   ]
  },
  {
   "cell_type": "code",
   "execution_count": 29,
   "metadata": {},
   "outputs": [],
   "source": [
    "# compile the model <- use \"categorical_crossentropy\" since it's categorical.\n",
    "model.compile(loss='categorical_crossentropy',optimizer='Adam',metrics=['accuracy'])"
   ]
  },
  {
   "cell_type": "code",
   "execution_count": 30,
   "metadata": {},
   "outputs": [
    {
     "name": "stdout",
     "output_type": "stream",
     "text": [
      "Train on 1200 samples, validate on 800 samples\n",
      "Epoch 1/20\n",
      "1200/1200 [==============================] - 239s 199ms/sample - loss: 1.7195 - accuracy: 0.1900 - val_loss: 1.6076 - val_accuracy: 0.2275\n",
      "Epoch 2/20\n",
      "1200/1200 [==============================] - 241s 201ms/sample - loss: 1.6006 - accuracy: 0.2333 - val_loss: 1.6055 - val_accuracy: 0.2400\n",
      "Epoch 3/20\n",
      "1200/1200 [==============================] - 238s 198ms/sample - loss: 1.5894 - accuracy: 0.2675 - val_loss: 1.6161 - val_accuracy: 0.2212\n",
      "Epoch 4/20\n",
      "1200/1200 [==============================] - 238s 198ms/sample - loss: 1.5792 - accuracy: 0.2625 - val_loss: 1.6229 - val_accuracy: 0.2338\n",
      "Epoch 5/20\n",
      "1200/1200 [==============================] - 339s 283ms/sample - loss: 1.5477 - accuracy: 0.2917 - val_loss: 1.5888 - val_accuracy: 0.2475\n",
      "Epoch 6/20\n",
      "1200/1200 [==============================] - 239s 199ms/sample - loss: 1.5266 - accuracy: 0.3092 - val_loss: 1.6133 - val_accuracy: 0.2412\n",
      "Epoch 7/20\n",
      "1200/1200 [==============================] - 239s 199ms/sample - loss: 1.5022 - accuracy: 0.3300 - val_loss: 1.6040 - val_accuracy: 0.2688\n",
      "Epoch 8/20\n",
      "1200/1200 [==============================] - 238s 198ms/sample - loss: 1.4751 - accuracy: 0.3575 - val_loss: 1.6118 - val_accuracy: 0.2825\n",
      "Epoch 9/20\n",
      "1200/1200 [==============================] - 238s 198ms/sample - loss: 1.4552 - accuracy: 0.3608 - val_loss: 1.6114 - val_accuracy: 0.2738\n",
      "Epoch 10/20\n",
      "1200/1200 [==============================] - 238s 199ms/sample - loss: 1.4242 - accuracy: 0.3825 - val_loss: 1.6620 - val_accuracy: 0.3038\n",
      "Epoch 11/20\n",
      "1200/1200 [==============================] - 238s 199ms/sample - loss: 1.4014 - accuracy: 0.4008 - val_loss: 1.6331 - val_accuracy: 0.2788\n",
      "Epoch 12/20\n",
      "1200/1200 [==============================] - 238s 199ms/sample - loss: 1.3724 - accuracy: 0.4258 - val_loss: 1.6785 - val_accuracy: 0.3237\n",
      "Epoch 13/20\n",
      "1200/1200 [==============================] - 239s 199ms/sample - loss: 1.3246 - accuracy: 0.4608 - val_loss: 1.6874 - val_accuracy: 0.3212\n",
      "Epoch 14/20\n",
      "1200/1200 [==============================] - 239s 199ms/sample - loss: 1.2385 - accuracy: 0.4692 - val_loss: 1.6274 - val_accuracy: 0.3038\n",
      "Epoch 15/20\n",
      "1200/1200 [==============================] - 236s 196ms/sample - loss: 1.1959 - accuracy: 0.4875 - val_loss: 1.7402 - val_accuracy: 0.3413\n",
      "Epoch 16/20\n",
      "1200/1200 [==============================] - 236s 197ms/sample - loss: 1.1233 - accuracy: 0.5467 - val_loss: 1.7536 - val_accuracy: 0.3462\n",
      "Epoch 17/20\n",
      "1200/1200 [==============================] - 236s 197ms/sample - loss: 1.0232 - accuracy: 0.5817 - val_loss: 1.7797 - val_accuracy: 0.3713\n",
      "Epoch 18/20\n",
      "1200/1200 [==============================] - 236s 197ms/sample - loss: 0.9791 - accuracy: 0.6275 - val_loss: 1.8701 - val_accuracy: 0.3675\n",
      "Epoch 19/20\n",
      "1200/1200 [==============================] - 236s 197ms/sample - loss: 0.8506 - accuracy: 0.6783 - val_loss: 2.0281 - val_accuracy: 0.3562\n",
      "Epoch 20/20\n",
      "1200/1200 [==============================] - 317s 264ms/sample - loss: 0.7184 - accuracy: 0.7125 - val_loss: 2.1309 - val_accuracy: 0.3700\n"
     ]
    }
   ],
   "source": [
    "result = model.fit(X_train, y_train, batch_size = 32,  epochs=20, validation_data=(X_test, y_test))"
   ]
  },
  {
   "cell_type": "code",
   "execution_count": 31,
   "metadata": {
    "scrolled": true
   },
   "outputs": [
    {
     "name": "stdout",
     "output_type": "stream",
     "text": [
      "WARNING:tensorflow:From /opt/anaconda3/envs/py36b/lib/python3.6/site-packages/tensorflow_core/python/ops/resource_variable_ops.py:1781: calling BaseResourceVariable.__init__ (from tensorflow.python.ops.resource_variable_ops) with constraint is deprecated and will be removed in a future version.\n",
      "Instructions for updating:\n",
      "If using Keras pass *_constraint arguments to layers.\n",
      "INFO:tensorflow:Assets written to: model3/assets\n"
     ]
    }
   ],
   "source": [
    "# if save_model:\n",
    "#     model.save_weights(\"retina.ckpt\")\n",
    "\n",
    "model.save('model2.h5')\n",
    "model.save('model2')"
   ]
  },
  {
   "cell_type": "code",
   "execution_count": 32,
   "metadata": {},
   "outputs": [],
   "source": [
    "x = tf.saved_model.load('model2.h5')"
   ]
  },
  {
   "cell_type": "code",
   "execution_count": 33,
   "metadata": {
    "scrolled": true
   },
   "outputs": [
    {
     "name": "stdout",
     "output_type": "stream",
     "text": [
      "Model: \"sequential\"\n",
      "_________________________________________________________________\n",
      "Layer (type)                 Output Shape              Param #   \n",
      "=================================================================\n",
      "conv2d (Conv2D)              (None, 224, 224, 32)      896       \n",
      "_________________________________________________________________\n",
      "leaky_re_lu (LeakyReLU)      (None, 224, 224, 32)      0         \n",
      "_________________________________________________________________\n",
      "max_pooling2d (MaxPooling2D) (None, 112, 112, 32)      0         \n",
      "_________________________________________________________________\n",
      "conv2d_1 (Conv2D)            (None, 112, 112, 64)      18496     \n",
      "_________________________________________________________________\n",
      "leaky_re_lu_1 (LeakyReLU)    (None, 112, 112, 64)      0         \n",
      "_________________________________________________________________\n",
      "max_pooling2d_1 (MaxPooling2 (None, 56, 56, 64)        0         \n",
      "_________________________________________________________________\n",
      "conv2d_2 (Conv2D)            (None, 56, 56, 128)       73856     \n",
      "_________________________________________________________________\n",
      "leaky_re_lu_2 (LeakyReLU)    (None, 56, 56, 128)       0         \n",
      "_________________________________________________________________\n",
      "max_pooling2d_2 (MaxPooling2 (None, 28, 28, 128)       0         \n",
      "_________________________________________________________________\n",
      "flatten (Flatten)            (None, 100352)            0         \n",
      "_________________________________________________________________\n",
      "dense (Dense)                (None, 128)               12845184  \n",
      "_________________________________________________________________\n",
      "leaky_re_lu_3 (LeakyReLU)    (None, 128)               0         \n",
      "_________________________________________________________________\n",
      "dense_1 (Dense)              (None, 5)                 645       \n",
      "=================================================================\n",
      "Total params: 12,939,077\n",
      "Trainable params: 12,939,077\n",
      "Non-trainable params: 0\n",
      "_________________________________________________________________\n"
     ]
    }
   ],
   "source": [
    "#model summary\n",
    "\n",
    "model.summary()\n"
   ]
  },
  {
   "cell_type": "code",
   "execution_count": 34,
   "metadata": {},
   "outputs": [],
   "source": [
    "import matplotlib.pyplot as plt"
   ]
  },
  {
   "cell_type": "code",
   "execution_count": 35,
   "metadata": {},
   "outputs": [
    {
     "data": {
      "image/png": "[encoded data removed]",
      "text/plain": [
       "<Figure size 576x576 with 2 Axes>"
      ]
     },
     "metadata": {
      "needs_background": "light"
     },
     "output_type": "display_data"
    }
   ],
   "source": [
    "# Visualize training results\n",
    "\n",
    "acc = result.history['accuracy']\n",
    "val_acc = result.history['val_accuracy']\n",
    "\n",
    "loss = result.history['loss']\n",
    "val_loss = result.history['val_loss']\n",
    "\n",
    "epochs_range = range(20)\n",
    "\n",
    "plt.figure(figsize=(8, 8))\n",
    "plt.subplot(1, 2, 1)\n",
    "plt.plot(epochs_range, acc, label='Training Accuracy')\n",
    "plt.plot(epochs_range, val_acc, label='Validation Accuracy')\n",
    "plt.legend(loc='lower right')\n",
    "plt.title('Training and Validation Accuracy')\n",
    "\n",
    "plt.subplot(1, 2, 2)\n",
    "plt.plot(epochs_range, loss, label='Training Loss')\n",
    "plt.plot(epochs_range, val_loss, label='Validation Loss')\n",
    "plt.legend(loc='upper right')\n",
    "plt.title('Training and Validation Loss')\n",
    "plt.show()\n",
    "\n"
   ]
  },
  {
   "cell_type": "markdown",
   "metadata": {},
   "source": [
    "Loss function for validation dataset is much higher than Training.\n",
    "\n",
    "use dropout"
   ]
  },
  {
   "cell_type": "code",
   "execution_count": 36,
   "metadata": {},
   "outputs": [],
   "source": [
    "model2 = tensorflow.keras.Sequential()\n",
    "model2.add(Conv2D(32, kernel_size=(3, 3),activation='linear',input_shape=(224,224,3) ,padding='same'))\n",
    "model2.add(LeakyReLU(alpha=0.1))\n",
    "model2.add(MaxPooling2D((2, 2),padding='same'))\n",
    "model2.add(Conv2D(64, (3, 3), activation='linear',padding='same'))\n",
    "model2.add(LeakyReLU(alpha=0.1))\n",
    "model2.add(MaxPooling2D(pool_size=(2, 2),padding='same'))\n",
    "model2.add(Conv2D(128, (3, 3), activation='linear',padding='same'))\n",
    "model2.add(LeakyReLU(alpha=0.1))\n",
    "model2.add(Dropout(0.25))\n",
    "model2.add(MaxPooling2D(pool_size=(2, 2),padding='same'))\n",
    "model2.add(Flatten())\n",
    "model2.add(Dense(128, activation='linear'))\n",
    "model2.add(LeakyReLU(alpha=0.1))\n",
    "model2.add(Dropout(0.50))\n",
    "model2.add(Dense(5, activation='softmax'))\n",
    "\n",
    "# compile the model <- use \"categorical_crossentropy\" since it's categorical.\n",
    "model2.compile(loss='categorical_crossentropy',optimizer='Adam',metrics=['accuracy'])\n"
   ]
  },
  {
   "cell_type": "code",
   "execution_count": 37,
   "metadata": {},
   "outputs": [
    {
     "name": "stdout",
     "output_type": "stream",
     "text": [
      "Train on 1200 samples, validate on 800 samples\n",
      "Epoch 1/20\n",
      "1200/1200 [==============================] - 247s 206ms/sample - loss: 1.6743 - accuracy: 0.2083 - val_loss: 1.6083 - val_accuracy: 0.1787\n",
      "Epoch 2/20\n",
      "1200/1200 [==============================] - 246s 205ms/sample - loss: 1.6041 - accuracy: 0.2375 - val_loss: 1.6020 - val_accuracy: 0.2350\n",
      "Epoch 3/20\n",
      "1200/1200 [==============================] - 248s 207ms/sample - loss: 1.5957 - accuracy: 0.2608 - val_loss: 1.6493 - val_accuracy: 0.1937\n",
      "Epoch 4/20\n",
      "1200/1200 [==============================] - 248s 206ms/sample - loss: 1.5793 - accuracy: 0.2842 - val_loss: 1.6977 - val_accuracy: 0.2300\n",
      "Epoch 5/20\n",
      "1200/1200 [==============================] - 248s 206ms/sample - loss: 1.5801 - accuracy: 0.2717 - val_loss: 1.6414 - val_accuracy: 0.2237\n",
      "Epoch 6/20\n",
      "1200/1200 [==============================] - 248s 206ms/sample - loss: 1.5789 - accuracy: 0.2867 - val_loss: 1.6058 - val_accuracy: 0.2412\n",
      "Epoch 7/20\n",
      "1200/1200 [==============================] - 267s 223ms/sample - loss: 1.5624 - accuracy: 0.2925 - val_loss: 1.6862 - val_accuracy: 0.2200\n",
      "Epoch 8/20\n",
      "1200/1200 [==============================] - 265s 221ms/sample - loss: 1.5514 - accuracy: 0.3083 - val_loss: 1.6441 - val_accuracy: 0.2300\n",
      "Epoch 9/20\n",
      "1200/1200 [==============================] - 266s 222ms/sample - loss: 1.5490 - accuracy: 0.3050 - val_loss: 1.6416 - val_accuracy: 0.2612\n",
      "Epoch 10/20\n",
      "1200/1200 [==============================] - 264s 220ms/sample - loss: 1.5278 - accuracy: 0.3283 - val_loss: 1.6350 - val_accuracy: 0.2713\n",
      "Epoch 11/20\n",
      "1200/1200 [==============================] - 260s 217ms/sample - loss: 1.5035 - accuracy: 0.3458 - val_loss: 1.7335 - val_accuracy: 0.2438\n",
      "Epoch 12/20\n",
      "1200/1200 [==============================] - 266s 221ms/sample - loss: 1.4857 - accuracy: 0.3542 - val_loss: 1.7197 - val_accuracy: 0.2313\n",
      "Epoch 13/20\n",
      "1200/1200 [==============================] - 257s 214ms/sample - loss: 1.4708 - accuracy: 0.3542 - val_loss: 1.6098 - val_accuracy: 0.2900\n",
      "Epoch 14/20\n",
      "1200/1200 [==============================] - 263s 219ms/sample - loss: 1.4447 - accuracy: 0.3825 - val_loss: 1.7364 - val_accuracy: 0.2550\n",
      "Epoch 15/20\n",
      "1200/1200 [==============================] - 264s 220ms/sample - loss: 1.4200 - accuracy: 0.4025 - val_loss: 1.6161 - val_accuracy: 0.2862\n",
      "Epoch 16/20\n",
      "1200/1200 [==============================] - 276s 230ms/sample - loss: 1.3794 - accuracy: 0.4167 - val_loss: 1.8464 - val_accuracy: 0.2575\n",
      "Epoch 17/20\n",
      "1200/1200 [==============================] - 275s 230ms/sample - loss: 1.3404 - accuracy: 0.4267 - val_loss: 1.8817 - val_accuracy: 0.2650\n",
      "Epoch 18/20\n",
      "1200/1200 [==============================] - 257s 214ms/sample - loss: 1.3407 - accuracy: 0.4350 - val_loss: 1.6912 - val_accuracy: 0.3325\n",
      "Epoch 19/20\n",
      "1200/1200 [==============================] - 249s 208ms/sample - loss: 1.2761 - accuracy: 0.4633 - val_loss: 1.7417 - val_accuracy: 0.3113\n",
      "Epoch 20/20\n",
      "1200/1200 [==============================] - 253s 210ms/sample - loss: 1.2319 - accuracy: 0.4975 - val_loss: 1.8644 - val_accuracy: 0.3187\n"
     ]
    }
   ],
   "source": [
    "result2 = model2.fit(X_train, y_train, batch_size = 32,  epochs=20, validation_data=(X_test, y_test))"
   ]
  },
  {
   "cell_type": "code",
   "execution_count": 38,
   "metadata": {
    "scrolled": false
   },
   "outputs": [
    {
     "name": "stdout",
     "output_type": "stream",
     "text": [
      "INFO:tensorflow:Assets written to: model4/assets\n"
     ]
    }
   ],
   "source": [
    "# if save_model:\n",
    "#     model.save_weights(\"retina.ckpt\")\n",
    "\n",
    "model2.save('model2.h5')\n",
    "model2.save('model2')"
   ]
  },
  {
   "cell_type": "code",
   "execution_count": 39,
   "metadata": {
    "scrolled": true
   },
   "outputs": [
    {
     "name": "stdout",
     "output_type": "stream",
     "text": [
      "Model: \"sequential_1\"\n",
      "_________________________________________________________________\n",
      "Layer (type)                 Output Shape              Param #   \n",
      "=================================================================\n",
      "conv2d_3 (Conv2D)            (None, 224, 224, 32)      896       \n",
      "_________________________________________________________________\n",
      "leaky_re_lu_4 (LeakyReLU)    (None, 224, 224, 32)      0         \n",
      "_________________________________________________________________\n",
      "max_pooling2d_3 (MaxPooling2 (None, 112, 112, 32)      0         \n",
      "_________________________________________________________________\n",
      "conv2d_4 (Conv2D)            (None, 112, 112, 64)      18496     \n",
      "_________________________________________________________________\n",
      "leaky_re_lu_5 (LeakyReLU)    (None, 112, 112, 64)      0         \n",
      "_________________________________________________________________\n",
      "max_pooling2d_4 (MaxPooling2 (None, 56, 56, 64)        0         \n",
      "_________________________________________________________________\n",
      "conv2d_5 (Conv2D)            (None, 56, 56, 128)       73856     \n",
      "_________________________________________________________________\n",
      "leaky_re_lu_6 (LeakyReLU)    (None, 56, 56, 128)       0         \n",
      "_________________________________________________________________\n",
      "dropout (Dropout)            (None, 56, 56, 128)       0         \n",
      "_________________________________________________________________\n",
      "max_pooling2d_5 (MaxPooling2 (None, 28, 28, 128)       0         \n",
      "_________________________________________________________________\n",
      "flatten_1 (Flatten)          (None, 100352)            0         \n",
      "_________________________________________________________________\n",
      "dense_2 (Dense)              (None, 128)               12845184  \n",
      "_________________________________________________________________\n",
      "leaky_re_lu_7 (LeakyReLU)    (None, 128)               0         \n",
      "_________________________________________________________________\n",
      "dropout_1 (Dropout)          (None, 128)               0         \n",
      "_________________________________________________________________\n",
      "dense_3 (Dense)              (None, 5)                 645       \n",
      "=================================================================\n",
      "Total params: 12,939,077\n",
      "Trainable params: 12,939,077\n",
      "Non-trainable params: 0\n",
      "_________________________________________________________________\n"
     ]
    }
   ],
   "source": [
    "#model summary\n",
    "\n",
    "model2.summary()\n"
   ]
  },
  {
   "cell_type": "code",
   "execution_count": 40,
   "metadata": {},
   "outputs": [],
   "source": [
    "import matplotlib.pyplot as plt"
   ]
  },
  {
   "cell_type": "code",
   "execution_count": 41,
   "metadata": {},
   "outputs": [
    {
     "data": {
      "image/png": "[encoded data removed]",
      "text/plain": [
       "<Figure size 576x576 with 2 Axes>"
      ]
     },
     "metadata": {
      "needs_background": "light"
     },
     "output_type": "display_data"
    }
   ],
   "source": [
    "# Visualize training results\n",
    "\n",
    "acc = result2.history['accuracy']\n",
    "val_acc = result2.history['val_accuracy']\n",
    "\n",
    "loss = result2.history['loss']\n",
    "val_loss = result2.history['val_loss']\n",
    "\n",
    "epochs_range = range(20)\n",
    "\n",
    "plt.figure(figsize=(8, 8))\n",
    "plt.subplot(1, 2, 1)\n",
    "plt.plot(epochs_range, acc, label='Training Accuracy')\n",
    "plt.plot(epochs_range, val_acc, label='Validation Accuracy')\n",
    "plt.legend(loc='lower right')\n",
    "plt.title('Training and Validation Accuracy')\n",
    "\n",
    "plt.subplot(1, 2, 2)\n",
    "plt.plot(epochs_range, loss, label='Training Loss')\n",
    "plt.plot(epochs_range, val_loss, label='Validation Loss')\n",
    "plt.legend(loc='upper right')\n",
    "plt.title('Training and Validation Loss')\n",
    "plt.show()\n",
    "\n"
   ]
  },
  {
   "cell_type": "code",
   "execution_count": 27,
   "metadata": {},
   "outputs": [],
   "source": [
    "test_df = test_data.groupby(['Level', 'LeftEye']).apply(lambda x: x.sample(50, replace = True)\n",
    "                                                      ).reset_index(drop = True)\n"
   ]
  }
 ],
 "metadata": {
  "kernelspec": {
   "display_name": "py36b",
   "language": "python",
   "name": "py36b"
  },
  "language_info": {
   "codemirror_mode": {
    "name": "ipython",
    "version": 3
   },
   "file_extension": ".py",
   "mimetype": "text/x-python",
   "name": "python",
   "nbconvert_exporter": "python",
   "pygments_lexer": "ipython3",
   "version": "3.6.13"
  }
 },
 "nbformat": 4,
 "nbformat_minor": 4
}
