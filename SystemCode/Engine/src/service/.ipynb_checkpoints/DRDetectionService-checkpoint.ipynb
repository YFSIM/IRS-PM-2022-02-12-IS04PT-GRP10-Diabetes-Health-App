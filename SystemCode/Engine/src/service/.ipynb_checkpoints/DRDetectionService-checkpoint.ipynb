{
 "cells": [
  {
   "cell_type": "code",
   "execution_count": null,
   "id": "7051a25f",
   "metadata": {},
   "outputs": [],
   "source": [
    "# importing the requests library\n",
    "from keras.models import load_model\n",
    "from PIL import Image\n",
    "from io import BytesIO\n",
    "import numpy as np\n",
    "import base64\n",
    "import cv2\n",
    "import io\n",
    "import os\n",
    "\n",
    "def cnnmodel():\n",
    "\n",
    "    module_path = os.path.abspath(os.path.join('../..'))\n",
    "    filepath = module_path +  'model/' + 'model2.h5'\n",
    "    print(filepath)\n",
    "\n",
    "    model = load_model(filepath)\n",
    "    model.compile(loss='categorical_crossentropy', optimizer='Adam', metrics=['accuracy'])\n",
    "\n",
    "    return model\n",
    "\n",
    "def cvt_2_base64(file_name):\n",
    "    img = cv2.imread(file_name)\n",
    "    _, im_arr = cv2.imencode('.jpeg', img)  # im_arr: image in Numpy one-dim array format.\n",
    "    im_bytes = im_arr.tobytes()\n",
    "    im_b64 = base64.b64encode(im_bytes)\n",
    "    return im_b64\n",
    "\n",
    "def stringToImage(base64_string):\n",
    "    im_bytes = base64.b64decode(base64_string)\n",
    "    im_arr = np.frombuffer(im_bytes, dtype=np.uint8)  # im_arr is one-dim Numpy array\n",
    "    img = cv2.imdecode(im_arr, flags=cv2.IMREAD_COLOR)\n",
    "\n",
    "    return img\n",
    "\n",
    "def getRetinopathyLevel(strbase64):\n",
    "    #img = cv2.imread(img)\n",
    "    #img64 = Image.open(BytesIO(base64.decodebytes(bytes(strbase64))))\n",
    "\n",
    "    img = stringToImage(strbase64)\n",
    "    img = cv2.resize(img, (224, 224))\n",
    "    img = np.reshape(img, [1, 224, 224, 3])\n",
    "\n",
    "    model = cnnmodel()\n",
    "    model_preds = model.predict(img)\n",
    "    classes = np.argmax(model.predict(img), axis=-1)\n",
    "\n",
    "    return classes\n",
    "\n",
    "class Startegy3Model:\n",
    "    def test():\n",
    "        image_64_encode = cvt_2_base64('43873_left.jpeg')\n",
    "        return (getRetinopathyLevel(image_64_encode))"
   ]
  }
 ],
 "metadata": {
  "kernelspec": {
   "display_name": "p1-v2-py37",
   "language": "python",
   "name": "p1-v2-py37"
  },
  "language_info": {
   "codemirror_mode": {
    "name": "ipython",
    "version": 3
   },
   "file_extension": ".py",
   "mimetype": "text/x-python",
   "name": "python",
   "nbconvert_exporter": "python",
   "pygments_lexer": "ipython3",
   "version": "3.7.12"
  }
 },
 "nbformat": 4,
 "nbformat_minor": 5
}
