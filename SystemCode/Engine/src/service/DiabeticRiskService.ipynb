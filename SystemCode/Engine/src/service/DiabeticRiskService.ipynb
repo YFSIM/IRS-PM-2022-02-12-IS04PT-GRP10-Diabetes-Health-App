{
 "cells": [
  {
   "cell_type": "code",
   "execution_count": 9,
   "id": "f5d78063",
   "metadata": {},
   "outputs": [
    {
     "name": "stdout",
     "output_type": "stream",
     "text": [
      "/Users/santi/Documents/Documents/Study/IRS Project/MyHealthApp/model/dbtmodel.pkl\n",
      "[1]\n"
     ]
    },
    {
     "name": "stderr",
     "output_type": "stream",
     "text": [
      "/Applications/anaconda3/envs/p1-v2-py37/lib/python3.7/site-packages/sklearn/base.py:334: UserWarning: Trying to unpickle estimator MultinomialNB from version 0.23.1 when using version 0.23.2. This might lead to breaking code or invalid results. Use at your own risk.\n",
      "  UserWarning)\n"
     ]
    }
   ],
   "source": [
    "import sys\n",
    "import os\n",
    "import pandas as pd\n",
    "\n",
    "import pickle\n",
    "\n",
    "def dt_lsmodel():\n",
    "    module_path = os.path.abspath(os.path.join('../..'))\n",
    "    filepath = module_path + '/' + 'model/' + 'dbtmodel.pkl'\n",
    "    print(filepath)\n",
    "\n",
    "\n",
    "    decision_tree_model_pkl = open(filepath, 'rb')\n",
    "    decision_tree_model = pickle.load(decision_tree_model_pkl)\n",
    "    return decision_tree_model\n",
    "\n",
    "    \n",
    "def predictDiabeticRisk(input):\n",
    "    model = dt_lsmodel()\n",
    "    predict_value = model.predict(input)\n",
    "    return predict_value\n",
    "\n",
    "def test():\n",
    "    df_predict = pd.read_csv(\"dbtmodel_test.csv\")\n",
    "    print(predictDiabeticRisk(df_predict))\n",
    "    \n",
    "test()"
   ]
  },
  {
   "cell_type": "code",
   "execution_count": null,
   "id": "ea694560",
   "metadata": {},
   "outputs": [],
   "source": []
  }
 ],
 "metadata": {
  "kernelspec": {
   "display_name": "p1-v2-py37",
   "language": "python",
   "name": "p1-v2-py37"
  },
  "language_info": {
   "codemirror_mode": {
    "name": "ipython",
    "version": 3
   },
   "file_extension": ".py",
   "mimetype": "text/x-python",
   "name": "python",
   "nbconvert_exporter": "python",
   "pygments_lexer": "ipython3",
   "version": "3.7.12"
  }
 },
 "nbformat": 4,
 "nbformat_minor": 5
}
